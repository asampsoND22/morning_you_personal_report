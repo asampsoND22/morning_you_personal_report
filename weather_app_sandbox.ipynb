{
 "cells": [
  {
   "cell_type": "markdown",
   "metadata": {},
   "source": [
    "## Personal Dashboard\n",
    "Goal of project:\n",
    "\n",
    "1. Extract data from the API\n",
    "2. Transform the data and make the format nice\n",
    "3. Load the data once per day to a data warehouse or database so we can store some of it\n",
    "4. visualize the data in a dashboard\n",
    "\n",
    "data I am interested in\n",
    "1. Weather - what is the weather in my location?\n",
    "2. Give me a random recipe for dinner\n",
    "3. any calendar events today? \n",
    "4. any birthdays?"
   ]
  },
  {
   "cell_type": "code",
   "execution_count": 1,
   "metadata": {},
   "outputs": [],
   "source": [
    "#bring in necessary packages\n",
    "import requests\n",
    "import pandas as pd\n",
    "import numpy as np\n",
    "from pyspark.sql import SparkSession, functions as F\n",
    "spark = SparkSession.builder.appName('personal_dash').getOrCreate() #initializes a spark session\n",
    "import json\n",
    "#test again"
   ]
  },
  {
   "cell_type": "code",
   "execution_count": 2,
   "metadata": {},
   "outputs": [],
   "source": [
    "#set the variables for our API call to the weather API\n",
    "location = input(\"What city do you want to check the weather of? \")\n",
    "query = {\"query\":location}\n",
    "api_key = 'ccb8ee86c83d12b1216667cad1c3bdb1'\n",
    "url = 'https://api.weatherstack.com/current?access_key='+api_key"
   ]
  },
  {
   "cell_type": "code",
   "execution_count": 3,
   "metadata": {},
   "outputs": [
    {
     "name": "stdout",
     "output_type": "stream",
     "text": [
      "{'request': {'type': 'City', 'query': 'Charlotte, United States of America', 'language': 'en', 'unit': 'm'}, 'location': {'name': 'Charlotte', 'country': 'United States of America', 'region': 'North Carolina', 'lat': '35.227', 'lon': '-80.843', 'timezone_id': 'America/New_York', 'localtime': '2024-12-14 13:37', 'localtime_epoch': 1734183420, 'utc_offset': '-5.0'}, 'current': {'observation_time': '06:37 PM', 'temperature': 9, 'weather_code': 116, 'weather_icons': ['https://cdn.worldweatheronline.com/images/wsymbols01_png_64/wsymbol_0002_sunny_intervals.png'], 'weather_descriptions': ['Partly cloudy'], 'wind_speed': 15, 'wind_degree': 54, 'wind_dir': 'NE', 'pressure': 1039, 'precip': 0, 'humidity': 50, 'cloudcover': 75, 'feelslike': 7, 'uv_index': 2, 'visibility': 16, 'is_day': 'yes'}}\n"
     ]
    }
   ],
   "source": [
    "# call the weather api - only 100 calls a month allowed\n",
    "response = requests.get(url, params=query)\n",
    "print(response.json())"
   ]
  },
  {
   "cell_type": "code",
   "execution_count": 4,
   "metadata": {},
   "outputs": [
    {
     "data": {
      "text/html": [
       "<div>\n",
       "<style scoped>\n",
       "    .dataframe tbody tr th:only-of-type {\n",
       "        vertical-align: middle;\n",
       "    }\n",
       "\n",
       "    .dataframe tbody tr th {\n",
       "        vertical-align: top;\n",
       "    }\n",
       "\n",
       "    .dataframe thead th {\n",
       "        text-align: right;\n",
       "    }\n",
       "</style>\n",
       "<table border=\"1\" class=\"dataframe\">\n",
       "  <thead>\n",
       "    <tr style=\"text-align: right;\">\n",
       "      <th></th>\n",
       "      <th>request.type</th>\n",
       "      <th>request.query</th>\n",
       "      <th>request.language</th>\n",
       "      <th>request.unit</th>\n",
       "      <th>location.name</th>\n",
       "      <th>location.country</th>\n",
       "      <th>location.region</th>\n",
       "      <th>location.lat</th>\n",
       "      <th>location.lon</th>\n",
       "      <th>location.timezone_id</th>\n",
       "      <th>...</th>\n",
       "      <th>current.wind_degree</th>\n",
       "      <th>current.wind_dir</th>\n",
       "      <th>current.pressure</th>\n",
       "      <th>current.precip</th>\n",
       "      <th>current.humidity</th>\n",
       "      <th>current.cloudcover</th>\n",
       "      <th>current.feelslike</th>\n",
       "      <th>current.uv_index</th>\n",
       "      <th>current.visibility</th>\n",
       "      <th>current.is_day</th>\n",
       "    </tr>\n",
       "  </thead>\n",
       "  <tbody>\n",
       "    <tr>\n",
       "      <th>0</th>\n",
       "      <td>City</td>\n",
       "      <td>Charlotte, United States of America</td>\n",
       "      <td>en</td>\n",
       "      <td>m</td>\n",
       "      <td>Charlotte</td>\n",
       "      <td>United States of America</td>\n",
       "      <td>North Carolina</td>\n",
       "      <td>35.227</td>\n",
       "      <td>-80.843</td>\n",
       "      <td>America/New_York</td>\n",
       "      <td>...</td>\n",
       "      <td>54</td>\n",
       "      <td>NE</td>\n",
       "      <td>1039</td>\n",
       "      <td>0</td>\n",
       "      <td>50</td>\n",
       "      <td>75</td>\n",
       "      <td>7</td>\n",
       "      <td>2</td>\n",
       "      <td>16</td>\n",
       "      <td>yes</td>\n",
       "    </tr>\n",
       "  </tbody>\n",
       "</table>\n",
       "<p>1 rows × 29 columns</p>\n",
       "</div>"
      ],
      "text/plain": [
       "  request.type                        request.query request.language  \\\n",
       "0         City  Charlotte, United States of America               en   \n",
       "\n",
       "  request.unit location.name          location.country location.region  \\\n",
       "0            m     Charlotte  United States of America  North Carolina   \n",
       "\n",
       "  location.lat location.lon location.timezone_id  ... current.wind_degree  \\\n",
       "0       35.227      -80.843     America/New_York  ...                  54   \n",
       "\n",
       "   current.wind_dir current.pressure current.precip  current.humidity  \\\n",
       "0                NE             1039              0                50   \n",
       "\n",
       "   current.cloudcover current.feelslike current.uv_index  current.visibility  \\\n",
       "0                  75                 7                2                  16   \n",
       "\n",
       "   current.is_day  \n",
       "0             yes  \n",
       "\n",
       "[1 rows x 29 columns]"
      ]
     },
     "execution_count": 4,
     "metadata": {},
     "output_type": "execute_result"
    }
   ],
   "source": [
    "#read results to a python dataframe\n",
    "df_python = pd.json_normalize(response.json())\n",
    "df_python.head()\n"
   ]
  },
  {
   "cell_type": "code",
   "execution_count": 5,
   "metadata": {},
   "outputs": [],
   "source": [
    "with open('api_output.json','w') as file:\n",
    "    json.dump(response.json(),file)"
   ]
  },
  {
   "cell_type": "code",
   "execution_count": 6,
   "metadata": {},
   "outputs": [
    {
     "name": "stdout",
     "output_type": "stream",
     "text": [
      "+--------------------+--------------------+--------------------+\n",
      "|             current|            location|             request|\n",
      "+--------------------+--------------------+--------------------+\n",
      "|{75, 7, 50, yes, ...|{United States of...|{en, Charlotte, U...|\n",
      "+--------------------+--------------------+--------------------+\n",
      "\n"
     ]
    }
   ],
   "source": [
    "#read results to a spark dataframe\n",
    "df_spark = spark.read.json('api_output.json')\n",
    "df_spark.show()"
   ]
  },
  {
   "cell_type": "code",
   "execution_count": 8,
   "metadata": {},
   "outputs": [
    {
     "data": {
      "text/plain": [
       "{'request': {'type': 'City',\n",
       "  'query': 'Charlotte, United States of America',\n",
       "  'language': 'en',\n",
       "  'unit': 'm'},\n",
       " 'location': {'name': 'Charlotte',\n",
       "  'country': 'United States of America',\n",
       "  'region': 'North Carolina',\n",
       "  'lat': '35.227',\n",
       "  'lon': '-80.843',\n",
       "  'timezone_id': 'America/New_York',\n",
       "  'localtime': '2024-12-14 13:37',\n",
       "  'localtime_epoch': 1734183420,\n",
       "  'utc_offset': '-5.0'},\n",
       " 'current': {'observation_time': '06:37 PM',\n",
       "  'temperature': 9,\n",
       "  'weather_code': 116,\n",
       "  'weather_icons': ['https://cdn.worldweatheronline.com/images/wsymbols01_png_64/wsymbol_0002_sunny_intervals.png'],\n",
       "  'weather_descriptions': ['Partly cloudy'],\n",
       "  'wind_speed': 15,\n",
       "  'wind_degree': 54,\n",
       "  'wind_dir': 'NE',\n",
       "  'pressure': 1039,\n",
       "  'precip': 0,\n",
       "  'humidity': 50,\n",
       "  'cloudcover': 75,\n",
       "  'feelslike': 7,\n",
       "  'uv_index': 2,\n",
       "  'visibility': 16,\n",
       "  'is_day': 'yes'}}"
      ]
     },
     "execution_count": 8,
     "metadata": {},
     "output_type": "execute_result"
    }
   ],
   "source": [
    "response.json()"
   ]
  },
  {
   "cell_type": "code",
   "execution_count": null,
   "metadata": {},
   "outputs": [
    {
     "name": "stdout",
     "output_type": "stream",
     "text": [
      "+-------+--------+--------------------+---------------+\n",
      "|   city|   state|             country|       timezone|\n",
      "+-------+--------+--------------------+---------------+\n",
      "|Chicago|Illinois|United States of ...|America/Chicago|\n",
      "+-------+--------+--------------------+---------------+\n",
      "\n"
     ]
    }
   ],
   "source": [
    "#read results to a spark dataframe\n",
    "df_spark = spark.read.json('api_output.json')\n",
    "subset = df_spark.select('location.*','current.*')\n",
    "dim_location = df_spark.select('location.*')\n",
    "fact_weather_daily = df_spark.select('current.*')\n",
    "\n",
    "\n",
    "'''\n",
    "#df_spark.show()\n",
    "spark.sql(\"Select name as city \\\n",
    "                , region as state \\\n",
    "                , country \\\n",
    "                , timezone_id as timezone \\\n",
    "                from {subset}\"\n",
    "                ,subset=subset).show()\n",
    "'''\n",
    "\n",
    "\n"
   ]
  }
 ],
 "metadata": {
  "kernelspec": {
   "display_name": "Python 3",
   "language": "python",
   "name": "python3"
  },
  "language_info": {
   "codemirror_mode": {
    "name": "ipython",
    "version": 3
   },
   "file_extension": ".py",
   "mimetype": "text/x-python",
   "name": "python",
   "nbconvert_exporter": "python",
   "pygments_lexer": "ipython3",
   "version": "3.9.13"
  }
 },
 "nbformat": 4,
 "nbformat_minor": 2
}
